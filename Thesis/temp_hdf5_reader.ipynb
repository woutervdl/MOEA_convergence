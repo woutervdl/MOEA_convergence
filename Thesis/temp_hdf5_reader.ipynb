{
 "cells": [
  {
   "cell_type": "code",
   "execution_count": 1,
   "id": "cb03583b",
   "metadata": {},
   "outputs": [],
   "source": [
    "import h5py\n",
    "import pandas as pd"
   ]
  },
  {
   "cell_type": "code",
   "execution_count": 2,
   "id": "9de75686",
   "metadata": {},
   "outputs": [
    {
     "name": "stdout",
     "output_type": "stream",
     "text": [
      "=== Listing all datasets and groups ===\n",
      "[Group]   epsilon_progress\n",
      "[Dataset] epsilon_progress/epsilon_progress | shape: (57,), dtype: int64\n",
      "[Dataset] epsilon_progress/nfe | shape: (57,), dtype: int64\n",
      "[Group]   final_archive\n",
      "[Dataset] final_archive/center_0 | shape: (247,), dtype: float64\n",
      "[Dataset] final_archive/center_1 | shape: (247,), dtype: float64\n",
      "[Dataset] final_archive/center_2 | shape: (247,), dtype: float64\n",
      "[Dataset] final_archive/center_3 | shape: (247,), dtype: float64\n",
      "[Dataset] final_archive/center_4 | shape: (247,), dtype: float64\n",
      "[Dataset] final_archive/center_5 | shape: (247,), dtype: float64\n",
      "[Dataset] final_archive/center_6 | shape: (247,), dtype: float64\n",
      "[Dataset] final_archive/center_7 | shape: (247,), dtype: float64\n",
      "[Dataset] final_archive/radii_0 | shape: (247,), dtype: float64\n",
      "[Dataset] final_archive/radii_1 | shape: (247,), dtype: float64\n",
      "[Dataset] final_archive/radii_2 | shape: (247,), dtype: float64\n",
      "[Dataset] final_archive/radii_3 | shape: (247,), dtype: float64\n",
      "[Dataset] final_archive/radii_4 | shape: (247,), dtype: float64\n",
      "[Dataset] final_archive/radii_5 | shape: (247,), dtype: float64\n",
      "[Dataset] final_archive/radii_6 | shape: (247,), dtype: float64\n",
      "[Dataset] final_archive/radii_7 | shape: (247,), dtype: float64\n",
      "[Dataset] final_archive/weights_0 | shape: (247,), dtype: float64\n",
      "[Dataset] final_archive/weights_1 | shape: (247,), dtype: float64\n",
      "[Dataset] final_archive/weights_10 | shape: (247,), dtype: float64\n",
      "[Dataset] final_archive/weights_100 | shape: (247,), dtype: float64\n",
      "[Dataset] final_archive/weights_101 | shape: (247,), dtype: float64\n",
      "[Dataset] final_archive/weights_102 | shape: (247,), dtype: float64\n",
      "[Dataset] final_archive/weights_103 | shape: (247,), dtype: float64\n",
      "[Dataset] final_archive/weights_104 | shape: (247,), dtype: float64\n",
      "[Dataset] final_archive/weights_105 | shape: (247,), dtype: float64\n",
      "[Dataset] final_archive/weights_106 | shape: (247,), dtype: float64\n",
      "[Dataset] final_archive/weights_107 | shape: (247,), dtype: float64\n",
      "[Dataset] final_archive/weights_108 | shape: (247,), dtype: float64\n",
      "[Dataset] final_archive/weights_109 | shape: (247,), dtype: float64\n",
      "[Dataset] final_archive/weights_11 | shape: (247,), dtype: float64\n",
      "[Dataset] final_archive/weights_110 | shape: (247,), dtype: float64\n",
      "[Dataset] final_archive/weights_111 | shape: (247,), dtype: float64\n",
      "[Dataset] final_archive/weights_112 | shape: (247,), dtype: float64\n",
      "[Dataset] final_archive/weights_113 | shape: (247,), dtype: float64\n",
      "[Dataset] final_archive/weights_114 | shape: (247,), dtype: float64\n",
      "[Dataset] final_archive/weights_115 | shape: (247,), dtype: float64\n",
      "[Dataset] final_archive/weights_116 | shape: (247,), dtype: float64\n",
      "[Dataset] final_archive/weights_117 | shape: (247,), dtype: float64\n",
      "[Dataset] final_archive/weights_118 | shape: (247,), dtype: float64\n",
      "[Dataset] final_archive/weights_119 | shape: (247,), dtype: float64\n",
      "[Dataset] final_archive/weights_12 | shape: (247,), dtype: float64\n",
      "[Dataset] final_archive/weights_120 | shape: (247,), dtype: float64\n",
      "[Dataset] final_archive/weights_121 | shape: (247,), dtype: float64\n",
      "[Dataset] final_archive/weights_122 | shape: (247,), dtype: float64\n",
      "[Dataset] final_archive/weights_123 | shape: (247,), dtype: float64\n",
      "[Dataset] final_archive/weights_124 | shape: (247,), dtype: float64\n",
      "[Dataset] final_archive/weights_125 | shape: (247,), dtype: float64\n",
      "[Dataset] final_archive/weights_126 | shape: (247,), dtype: float64\n",
      "[Dataset] final_archive/weights_127 | shape: (247,), dtype: float64\n",
      "[Dataset] final_archive/weights_128 | shape: (247,), dtype: float64\n",
      "[Dataset] final_archive/weights_129 | shape: (247,), dtype: float64\n",
      "[Dataset] final_archive/weights_13 | shape: (247,), dtype: float64\n",
      "[Dataset] final_archive/weights_130 | shape: (247,), dtype: float64\n",
      "[Dataset] final_archive/weights_131 | shape: (247,), dtype: float64\n",
      "[Dataset] final_archive/weights_132 | shape: (247,), dtype: float64\n",
      "[Dataset] final_archive/weights_133 | shape: (247,), dtype: float64\n",
      "[Dataset] final_archive/weights_134 | shape: (247,), dtype: float64\n",
      "[Dataset] final_archive/weights_135 | shape: (247,), dtype: float64\n",
      "[Dataset] final_archive/weights_136 | shape: (247,), dtype: float64\n",
      "[Dataset] final_archive/weights_137 | shape: (247,), dtype: float64\n",
      "[Dataset] final_archive/weights_138 | shape: (247,), dtype: float64\n",
      "[Dataset] final_archive/weights_139 | shape: (247,), dtype: float64\n",
      "[Dataset] final_archive/weights_14 | shape: (247,), dtype: float64\n",
      "[Dataset] final_archive/weights_140 | shape: (247,), dtype: float64\n",
      "[Dataset] final_archive/weights_141 | shape: (247,), dtype: float64\n",
      "[Dataset] final_archive/weights_142 | shape: (247,), dtype: float64\n",
      "[Dataset] final_archive/weights_143 | shape: (247,), dtype: float64\n",
      "[Dataset] final_archive/weights_144 | shape: (247,), dtype: float64\n",
      "[Dataset] final_archive/weights_145 | shape: (247,), dtype: float64\n",
      "[Dataset] final_archive/weights_146 | shape: (247,), dtype: float64\n",
      "[Dataset] final_archive/weights_147 | shape: (247,), dtype: float64\n",
      "[Dataset] final_archive/weights_148 | shape: (247,), dtype: float64\n",
      "[Dataset] final_archive/weights_149 | shape: (247,), dtype: float64\n",
      "[Dataset] final_archive/weights_15 | shape: (247,), dtype: float64\n",
      "[Dataset] final_archive/weights_150 | shape: (247,), dtype: float64\n",
      "[Dataset] final_archive/weights_151 | shape: (247,), dtype: float64\n",
      "[Dataset] final_archive/weights_152 | shape: (247,), dtype: float64\n",
      "[Dataset] final_archive/weights_153 | shape: (247,), dtype: float64\n",
      "[Dataset] final_archive/weights_154 | shape: (247,), dtype: float64\n",
      "[Dataset] final_archive/weights_155 | shape: (247,), dtype: float64\n",
      "[Dataset] final_archive/weights_156 | shape: (247,), dtype: float64\n",
      "[Dataset] final_archive/weights_157 | shape: (247,), dtype: float64\n",
      "[Dataset] final_archive/weights_158 | shape: (247,), dtype: float64\n",
      "[Dataset] final_archive/weights_159 | shape: (247,), dtype: float64\n",
      "[Dataset] final_archive/weights_16 | shape: (247,), dtype: float64\n",
      "[Dataset] final_archive/weights_160 | shape: (247,), dtype: float64\n",
      "[Dataset] final_archive/weights_161 | shape: (247,), dtype: float64\n",
      "[Dataset] final_archive/weights_162 | shape: (247,), dtype: float64\n",
      "[Dataset] final_archive/weights_163 | shape: (247,), dtype: float64\n",
      "[Dataset] final_archive/weights_164 | shape: (247,), dtype: float64\n",
      "[Dataset] final_archive/weights_165 | shape: (247,), dtype: float64\n",
      "[Dataset] final_archive/weights_166 | shape: (247,), dtype: float64\n",
      "[Dataset] final_archive/weights_167 | shape: (247,), dtype: float64\n",
      "[Dataset] final_archive/weights_168 | shape: (247,), dtype: float64\n",
      "[Dataset] final_archive/weights_169 | shape: (247,), dtype: float64\n",
      "[Dataset] final_archive/weights_17 | shape: (247,), dtype: float64\n",
      "[Dataset] final_archive/weights_170 | shape: (247,), dtype: float64\n",
      "[Dataset] final_archive/weights_171 | shape: (247,), dtype: float64\n",
      "[Dataset] final_archive/weights_172 | shape: (247,), dtype: float64\n",
      "[Dataset] final_archive/weights_173 | shape: (247,), dtype: float64\n",
      "[Dataset] final_archive/weights_174 | shape: (247,), dtype: float64\n",
      "[Dataset] final_archive/weights_175 | shape: (247,), dtype: float64\n",
      "[Dataset] final_archive/weights_176 | shape: (247,), dtype: float64\n",
      "[Dataset] final_archive/weights_177 | shape: (247,), dtype: float64\n",
      "[Dataset] final_archive/weights_178 | shape: (247,), dtype: float64\n",
      "[Dataset] final_archive/weights_179 | shape: (247,), dtype: float64\n",
      "[Dataset] final_archive/weights_18 | shape: (247,), dtype: float64\n",
      "[Dataset] final_archive/weights_180 | shape: (247,), dtype: float64\n",
      "[Dataset] final_archive/weights_181 | shape: (247,), dtype: float64\n",
      "[Dataset] final_archive/weights_182 | shape: (247,), dtype: float64\n",
      "[Dataset] final_archive/weights_183 | shape: (247,), dtype: float64\n",
      "[Dataset] final_archive/weights_184 | shape: (247,), dtype: float64\n",
      "[Dataset] final_archive/weights_185 | shape: (247,), dtype: float64\n",
      "[Dataset] final_archive/weights_186 | shape: (247,), dtype: float64\n",
      "[Dataset] final_archive/weights_187 | shape: (247,), dtype: float64\n",
      "[Dataset] final_archive/weights_188 | shape: (247,), dtype: float64\n",
      "[Dataset] final_archive/weights_189 | shape: (247,), dtype: float64\n",
      "[Dataset] final_archive/weights_19 | shape: (247,), dtype: float64\n",
      "[Dataset] final_archive/weights_190 | shape: (247,), dtype: float64\n",
      "[Dataset] final_archive/weights_191 | shape: (247,), dtype: float64\n",
      "[Dataset] final_archive/weights_192 | shape: (247,), dtype: float64\n",
      "[Dataset] final_archive/weights_193 | shape: (247,), dtype: float64\n",
      "[Dataset] final_archive/weights_194 | shape: (247,), dtype: float64\n",
      "[Dataset] final_archive/weights_195 | shape: (247,), dtype: float64\n",
      "[Dataset] final_archive/weights_196 | shape: (247,), dtype: float64\n",
      "[Dataset] final_archive/weights_197 | shape: (247,), dtype: float64\n",
      "[Dataset] final_archive/weights_198 | shape: (247,), dtype: float64\n",
      "[Dataset] final_archive/weights_199 | shape: (247,), dtype: float64\n",
      "[Dataset] final_archive/weights_2 | shape: (247,), dtype: float64\n",
      "[Dataset] final_archive/weights_20 | shape: (247,), dtype: float64\n",
      "[Dataset] final_archive/weights_200 | shape: (247,), dtype: float64\n",
      "[Dataset] final_archive/weights_201 | shape: (247,), dtype: float64\n",
      "[Dataset] final_archive/weights_202 | shape: (247,), dtype: float64\n",
      "[Dataset] final_archive/weights_203 | shape: (247,), dtype: float64\n",
      "[Dataset] final_archive/weights_204 | shape: (247,), dtype: float64\n",
      "[Dataset] final_archive/weights_205 | shape: (247,), dtype: float64\n",
      "[Dataset] final_archive/weights_206 | shape: (247,), dtype: float64\n",
      "[Dataset] final_archive/weights_207 | shape: (247,), dtype: float64\n",
      "[Dataset] final_archive/weights_208 | shape: (247,), dtype: float64\n",
      "[Dataset] final_archive/weights_209 | shape: (247,), dtype: float64\n",
      "[Dataset] final_archive/weights_21 | shape: (247,), dtype: float64\n",
      "[Dataset] final_archive/weights_210 | shape: (247,), dtype: float64\n",
      "[Dataset] final_archive/weights_211 | shape: (247,), dtype: float64\n",
      "[Dataset] final_archive/weights_212 | shape: (247,), dtype: float64\n",
      "[Dataset] final_archive/weights_213 | shape: (247,), dtype: float64\n",
      "[Dataset] final_archive/weights_214 | shape: (247,), dtype: float64\n",
      "[Dataset] final_archive/weights_215 | shape: (247,), dtype: float64\n",
      "[Dataset] final_archive/weights_216 | shape: (247,), dtype: float64\n",
      "[Dataset] final_archive/weights_217 | shape: (247,), dtype: float64\n",
      "[Dataset] final_archive/weights_218 | shape: (247,), dtype: float64\n",
      "[Dataset] final_archive/weights_219 | shape: (247,), dtype: float64\n",
      "[Dataset] final_archive/weights_22 | shape: (247,), dtype: float64\n",
      "[Dataset] final_archive/weights_220 | shape: (247,), dtype: float64\n",
      "[Dataset] final_archive/weights_221 | shape: (247,), dtype: float64\n",
      "[Dataset] final_archive/weights_222 | shape: (247,), dtype: float64\n",
      "[Dataset] final_archive/weights_223 | shape: (247,), dtype: float64\n",
      "[Dataset] final_archive/weights_224 | shape: (247,), dtype: float64\n",
      "[Dataset] final_archive/weights_225 | shape: (247,), dtype: float64\n",
      "[Dataset] final_archive/weights_226 | shape: (247,), dtype: float64\n",
      "[Dataset] final_archive/weights_227 | shape: (247,), dtype: float64\n",
      "[Dataset] final_archive/weights_23 | shape: (247,), dtype: float64\n",
      "[Dataset] final_archive/weights_24 | shape: (247,), dtype: float64\n",
      "[Dataset] final_archive/weights_25 | shape: (247,), dtype: float64\n",
      "[Dataset] final_archive/weights_26 | shape: (247,), dtype: float64\n",
      "[Dataset] final_archive/weights_27 | shape: (247,), dtype: float64\n",
      "[Dataset] final_archive/weights_28 | shape: (247,), dtype: float64\n",
      "[Dataset] final_archive/weights_29 | shape: (247,), dtype: float64\n",
      "[Dataset] final_archive/weights_3 | shape: (247,), dtype: float64\n",
      "[Dataset] final_archive/weights_30 | shape: (247,), dtype: float64\n",
      "[Dataset] final_archive/weights_31 | shape: (247,), dtype: float64\n",
      "[Dataset] final_archive/weights_32 | shape: (247,), dtype: float64\n",
      "[Dataset] final_archive/weights_33 | shape: (247,), dtype: float64\n",
      "[Dataset] final_archive/weights_34 | shape: (247,), dtype: float64\n",
      "[Dataset] final_archive/weights_35 | shape: (247,), dtype: float64\n",
      "[Dataset] final_archive/weights_36 | shape: (247,), dtype: float64\n",
      "[Dataset] final_archive/weights_37 | shape: (247,), dtype: float64\n",
      "[Dataset] final_archive/weights_38 | shape: (247,), dtype: float64\n",
      "[Dataset] final_archive/weights_39 | shape: (247,), dtype: float64\n",
      "[Dataset] final_archive/weights_4 | shape: (247,), dtype: float64\n",
      "[Dataset] final_archive/weights_40 | shape: (247,), dtype: float64\n",
      "[Dataset] final_archive/weights_41 | shape: (247,), dtype: float64\n",
      "[Dataset] final_archive/weights_42 | shape: (247,), dtype: float64\n",
      "[Dataset] final_archive/weights_43 | shape: (247,), dtype: float64\n",
      "[Dataset] final_archive/weights_44 | shape: (247,), dtype: float64\n",
      "[Dataset] final_archive/weights_45 | shape: (247,), dtype: float64\n",
      "[Dataset] final_archive/weights_46 | shape: (247,), dtype: float64\n",
      "[Dataset] final_archive/weights_47 | shape: (247,), dtype: float64\n",
      "[Dataset] final_archive/weights_48 | shape: (247,), dtype: float64\n",
      "[Dataset] final_archive/weights_49 | shape: (247,), dtype: float64\n",
      "[Dataset] final_archive/weights_5 | shape: (247,), dtype: float64\n",
      "[Dataset] final_archive/weights_50 | shape: (247,), dtype: float64\n",
      "[Dataset] final_archive/weights_51 | shape: (247,), dtype: float64\n",
      "[Dataset] final_archive/weights_52 | shape: (247,), dtype: float64\n",
      "[Dataset] final_archive/weights_53 | shape: (247,), dtype: float64\n",
      "[Dataset] final_archive/weights_54 | shape: (247,), dtype: float64\n",
      "[Dataset] final_archive/weights_55 | shape: (247,), dtype: float64\n",
      "[Dataset] final_archive/weights_56 | shape: (247,), dtype: float64\n",
      "[Dataset] final_archive/weights_57 | shape: (247,), dtype: float64\n",
      "[Dataset] final_archive/weights_58 | shape: (247,), dtype: float64\n",
      "[Dataset] final_archive/weights_59 | shape: (247,), dtype: float64\n",
      "[Dataset] final_archive/weights_6 | shape: (247,), dtype: float64\n",
      "[Dataset] final_archive/weights_60 | shape: (247,), dtype: float64\n",
      "[Dataset] final_archive/weights_61 | shape: (247,), dtype: float64\n",
      "[Dataset] final_archive/weights_62 | shape: (247,), dtype: float64\n",
      "[Dataset] final_archive/weights_63 | shape: (247,), dtype: float64\n",
      "[Dataset] final_archive/weights_64 | shape: (247,), dtype: float64\n",
      "[Dataset] final_archive/weights_65 | shape: (247,), dtype: float64\n",
      "[Dataset] final_archive/weights_66 | shape: (247,), dtype: float64\n",
      "[Dataset] final_archive/weights_67 | shape: (247,), dtype: float64\n",
      "[Dataset] final_archive/weights_68 | shape: (247,), dtype: float64\n",
      "[Dataset] final_archive/weights_69 | shape: (247,), dtype: float64\n",
      "[Dataset] final_archive/weights_7 | shape: (247,), dtype: float64\n",
      "[Dataset] final_archive/weights_70 | shape: (247,), dtype: float64\n",
      "[Dataset] final_archive/weights_71 | shape: (247,), dtype: float64\n",
      "[Dataset] final_archive/weights_72 | shape: (247,), dtype: float64\n",
      "[Dataset] final_archive/weights_73 | shape: (247,), dtype: float64\n",
      "[Dataset] final_archive/weights_74 | shape: (247,), dtype: float64\n",
      "[Dataset] final_archive/weights_75 | shape: (247,), dtype: float64\n",
      "[Dataset] final_archive/weights_76 | shape: (247,), dtype: float64\n",
      "[Dataset] final_archive/weights_77 | shape: (247,), dtype: float64\n",
      "[Dataset] final_archive/weights_78 | shape: (247,), dtype: float64\n",
      "[Dataset] final_archive/weights_79 | shape: (247,), dtype: float64\n",
      "[Dataset] final_archive/weights_8 | shape: (247,), dtype: float64\n",
      "[Dataset] final_archive/weights_80 | shape: (247,), dtype: float64\n",
      "[Dataset] final_archive/weights_81 | shape: (247,), dtype: float64\n",
      "[Dataset] final_archive/weights_82 | shape: (247,), dtype: float64\n",
      "[Dataset] final_archive/weights_83 | shape: (247,), dtype: float64\n",
      "[Dataset] final_archive/weights_84 | shape: (247,), dtype: float64\n",
      "[Dataset] final_archive/weights_85 | shape: (247,), dtype: float64\n",
      "[Dataset] final_archive/weights_86 | shape: (247,), dtype: float64\n",
      "[Dataset] final_archive/weights_87 | shape: (247,), dtype: float64\n",
      "[Dataset] final_archive/weights_88 | shape: (247,), dtype: float64\n",
      "[Dataset] final_archive/weights_89 | shape: (247,), dtype: float64\n",
      "[Dataset] final_archive/weights_9 | shape: (247,), dtype: float64\n",
      "[Dataset] final_archive/weights_90 | shape: (247,), dtype: float64\n",
      "[Dataset] final_archive/weights_91 | shape: (247,), dtype: float64\n",
      "[Dataset] final_archive/weights_92 | shape: (247,), dtype: float64\n",
      "[Dataset] final_archive/weights_93 | shape: (247,), dtype: float64\n",
      "[Dataset] final_archive/weights_94 | shape: (247,), dtype: float64\n",
      "[Dataset] final_archive/weights_95 | shape: (247,), dtype: float64\n",
      "[Dataset] final_archive/weights_96 | shape: (247,), dtype: float64\n",
      "[Dataset] final_archive/weights_97 | shape: (247,), dtype: float64\n",
      "[Dataset] final_archive/weights_98 | shape: (247,), dtype: float64\n",
      "[Dataset] final_archive/weights_99 | shape: (247,), dtype: float64\n",
      "[Dataset] final_archive/welfare | shape: (247,), dtype: float64\n",
      "[Dataset] final_archive/welfare_loss_abatement | shape: (247,), dtype: float64\n",
      "[Dataset] final_archive/welfare_loss_damage | shape: (247,), dtype: float64\n",
      "[Dataset] final_archive/years_above_threshold | shape: (247,), dtype: float64\n"
     ]
    }
   ],
   "source": [
    "h5_file_path = \"/Users/wouter/Documents/Studie/Engineering and Policy Analysis/Scriptie/Code/MOEA_convergence/Thesis/hdf5_results/JUSTICE/48cores/eps_nsgaii/seed12345/final_state_JUSTICE_eps_nsgaii_48cores_seed12345.h5\"\n",
    "\n",
    "# Open the file in read mode\n",
    "with h5py.File(h5_file_path, 'r') as f:\n",
    "    print(\"=== Listing all datasets and groups ===\")\n",
    "    \n",
    "    def print_structure(name, obj):\n",
    "        if isinstance(obj, h5py.Dataset):\n",
    "            print(f\"[Dataset] {name} | shape: {obj.shape}, dtype: {obj.dtype}\")\n",
    "        elif isinstance(obj, h5py.Group):\n",
    "            print(f\"[Group]   {name}\")\n",
    "    \n",
    "    f.visititems(print_structure)"
   ]
  },
  {
   "cell_type": "code",
   "execution_count": 11,
   "id": "19bc5339",
   "metadata": {},
   "outputs": [
    {
     "name": "stdout",
     "output_type": "stream",
     "text": [
      "\n",
      "=== Sample content from 'results/f0' ===\n",
      "388\n"
     ]
    }
   ],
   "source": [
    "with h5py.File(h5_file_path, 'r') as f:\n",
    "    dataset = f[\"results/center_6\"]\n",
    "    print(\"\\n=== Sample content from 'results/f0' ===\")\n",
    "    print(len(dataset[:]))  # Show first 10 entries"
   ]
  },
  {
   "cell_type": "code",
   "execution_count": 13,
   "id": "8cabf230",
   "metadata": {},
   "outputs": [
    {
     "name": "stdout",
     "output_type": "stream",
     "text": [
      "CSV saved to: /users/wouter/desktop/test2.csv\n"
     ]
    }
   ],
   "source": [
    "h5_file_path = \"/Users/wouter/Documents/Studie/Engineering and Policy Analysis/Scriptie/Code/MOEA_convergence/Thesis/results/JUSTICE/48cores/borg/seed12345/results_JUSTICE_borg_48cores_seed12345.h5\"\n",
    "csv_output_path = \"/users/wouter/desktop/test2.csv\"\n",
    "\n",
    "# Open the HDF5 file\n",
    "with h5py.File(h5_file_path, \"r\") as f:\n",
    "    results_group = f[\"metrics\"]\n",
    "    \n",
    "    # Load all datasets under \"results\" into a dictionary\n",
    "    data_dict = {name: results_group[name][()] for name in results_group}\n",
    "    \n",
    "    # Combine into a DataFrame\n",
    "    df = pd.DataFrame(data_dict)\n",
    "\n",
    "# Save to CSV\n",
    "df.to_csv(csv_output_path, index=False)\n",
    "\n",
    "print(f\"CSV saved to: {csv_output_path}\")"
   ]
  },
  {
   "cell_type": "code",
   "execution_count": 12,
   "id": "16f9e434",
   "metadata": {},
   "outputs": [
    {
     "data": {
      "text/markdown": [
       "### Variables in `/results/` group"
      ],
      "text/plain": [
       "<IPython.core.display.Markdown object>"
      ]
     },
     "metadata": {},
     "output_type": "display_data"
    },
    {
     "data": {
      "text/markdown": [
       "- `center_0` | shape: `(311,)`, dtype: `float64`"
      ],
      "text/plain": [
       "<IPython.core.display.Markdown object>"
      ]
     },
     "metadata": {},
     "output_type": "display_data"
    },
    {
     "data": {
      "text/markdown": [
       "- `center_1` | shape: `(311,)`, dtype: `float64`"
      ],
      "text/plain": [
       "<IPython.core.display.Markdown object>"
      ]
     },
     "metadata": {},
     "output_type": "display_data"
    },
    {
     "data": {
      "text/markdown": [
       "- `center_2` | shape: `(311,)`, dtype: `float64`"
      ],
      "text/plain": [
       "<IPython.core.display.Markdown object>"
      ]
     },
     "metadata": {},
     "output_type": "display_data"
    },
    {
     "data": {
      "text/markdown": [
       "- `center_3` | shape: `(311,)`, dtype: `float64`"
      ],
      "text/plain": [
       "<IPython.core.display.Markdown object>"
      ]
     },
     "metadata": {},
     "output_type": "display_data"
    },
    {
     "data": {
      "text/markdown": [
       "- `center_4` | shape: `(311,)`, dtype: `float64`"
      ],
      "text/plain": [
       "<IPython.core.display.Markdown object>"
      ]
     },
     "metadata": {},
     "output_type": "display_data"
    },
    {
     "data": {
      "text/markdown": [
       "- `center_5` | shape: `(311,)`, dtype: `float64`"
      ],
      "text/plain": [
       "<IPython.core.display.Markdown object>"
      ]
     },
     "metadata": {},
     "output_type": "display_data"
    },
    {
     "data": {
      "text/markdown": [
       "- `center_6` | shape: `(311,)`, dtype: `float64`"
      ],
      "text/plain": [
       "<IPython.core.display.Markdown object>"
      ]
     },
     "metadata": {},
     "output_type": "display_data"
    },
    {
     "data": {
      "text/markdown": [
       "- `center_7` | shape: `(311,)`, dtype: `float64`"
      ],
      "text/plain": [
       "<IPython.core.display.Markdown object>"
      ]
     },
     "metadata": {},
     "output_type": "display_data"
    },
    {
     "data": {
      "text/markdown": [
       "- `radii_0` | shape: `(311,)`, dtype: `float64`"
      ],
      "text/plain": [
       "<IPython.core.display.Markdown object>"
      ]
     },
     "metadata": {},
     "output_type": "display_data"
    },
    {
     "data": {
      "text/markdown": [
       "- `radii_1` | shape: `(311,)`, dtype: `float64`"
      ],
      "text/plain": [
       "<IPython.core.display.Markdown object>"
      ]
     },
     "metadata": {},
     "output_type": "display_data"
    },
    {
     "data": {
      "text/markdown": [
       "- `radii_2` | shape: `(311,)`, dtype: `float64`"
      ],
      "text/plain": [
       "<IPython.core.display.Markdown object>"
      ]
     },
     "metadata": {},
     "output_type": "display_data"
    },
    {
     "data": {
      "text/markdown": [
       "- `radii_3` | shape: `(311,)`, dtype: `float64`"
      ],
      "text/plain": [
       "<IPython.core.display.Markdown object>"
      ]
     },
     "metadata": {},
     "output_type": "display_data"
    },
    {
     "data": {
      "text/markdown": [
       "- `radii_4` | shape: `(311,)`, dtype: `float64`"
      ],
      "text/plain": [
       "<IPython.core.display.Markdown object>"
      ]
     },
     "metadata": {},
     "output_type": "display_data"
    },
    {
     "data": {
      "text/markdown": [
       "- `radii_5` | shape: `(311,)`, dtype: `float64`"
      ],
      "text/plain": [
       "<IPython.core.display.Markdown object>"
      ]
     },
     "metadata": {},
     "output_type": "display_data"
    },
    {
     "data": {
      "text/markdown": [
       "- `radii_6` | shape: `(311,)`, dtype: `float64`"
      ],
      "text/plain": [
       "<IPython.core.display.Markdown object>"
      ]
     },
     "metadata": {},
     "output_type": "display_data"
    },
    {
     "data": {
      "text/markdown": [
       "- `radii_7` | shape: `(311,)`, dtype: `float64`"
      ],
      "text/plain": [
       "<IPython.core.display.Markdown object>"
      ]
     },
     "metadata": {},
     "output_type": "display_data"
    },
    {
     "data": {
      "text/markdown": [
       "- `weights_0` | shape: `(311,)`, dtype: `float64`"
      ],
      "text/plain": [
       "<IPython.core.display.Markdown object>"
      ]
     },
     "metadata": {},
     "output_type": "display_data"
    },
    {
     "data": {
      "text/markdown": [
       "- `weights_1` | shape: `(311,)`, dtype: `float64`"
      ],
      "text/plain": [
       "<IPython.core.display.Markdown object>"
      ]
     },
     "metadata": {},
     "output_type": "display_data"
    },
    {
     "data": {
      "text/markdown": [
       "- `weights_10` | shape: `(311,)`, dtype: `float64`"
      ],
      "text/plain": [
       "<IPython.core.display.Markdown object>"
      ]
     },
     "metadata": {},
     "output_type": "display_data"
    },
    {
     "data": {
      "text/markdown": [
       "- `weights_100` | shape: `(311,)`, dtype: `float64`"
      ],
      "text/plain": [
       "<IPython.core.display.Markdown object>"
      ]
     },
     "metadata": {},
     "output_type": "display_data"
    },
    {
     "data": {
      "text/markdown": [
       "- `weights_101` | shape: `(311,)`, dtype: `float64`"
      ],
      "text/plain": [
       "<IPython.core.display.Markdown object>"
      ]
     },
     "metadata": {},
     "output_type": "display_data"
    },
    {
     "data": {
      "text/markdown": [
       "- `weights_102` | shape: `(311,)`, dtype: `float64`"
      ],
      "text/plain": [
       "<IPython.core.display.Markdown object>"
      ]
     },
     "metadata": {},
     "output_type": "display_data"
    },
    {
     "data": {
      "text/markdown": [
       "- `weights_103` | shape: `(311,)`, dtype: `float64`"
      ],
      "text/plain": [
       "<IPython.core.display.Markdown object>"
      ]
     },
     "metadata": {},
     "output_type": "display_data"
    },
    {
     "data": {
      "text/markdown": [
       "- `weights_104` | shape: `(311,)`, dtype: `float64`"
      ],
      "text/plain": [
       "<IPython.core.display.Markdown object>"
      ]
     },
     "metadata": {},
     "output_type": "display_data"
    },
    {
     "data": {
      "text/markdown": [
       "- `weights_105` | shape: `(311,)`, dtype: `float64`"
      ],
      "text/plain": [
       "<IPython.core.display.Markdown object>"
      ]
     },
     "metadata": {},
     "output_type": "display_data"
    },
    {
     "data": {
      "text/markdown": [
       "- `weights_106` | shape: `(311,)`, dtype: `float64`"
      ],
      "text/plain": [
       "<IPython.core.display.Markdown object>"
      ]
     },
     "metadata": {},
     "output_type": "display_data"
    },
    {
     "data": {
      "text/markdown": [
       "- `weights_107` | shape: `(311,)`, dtype: `float64`"
      ],
      "text/plain": [
       "<IPython.core.display.Markdown object>"
      ]
     },
     "metadata": {},
     "output_type": "display_data"
    },
    {
     "data": {
      "text/markdown": [
       "- `weights_108` | shape: `(311,)`, dtype: `float64`"
      ],
      "text/plain": [
       "<IPython.core.display.Markdown object>"
      ]
     },
     "metadata": {},
     "output_type": "display_data"
    },
    {
     "data": {
      "text/markdown": [
       "- `weights_109` | shape: `(311,)`, dtype: `float64`"
      ],
      "text/plain": [
       "<IPython.core.display.Markdown object>"
      ]
     },
     "metadata": {},
     "output_type": "display_data"
    },
    {
     "data": {
      "text/markdown": [
       "- `weights_11` | shape: `(311,)`, dtype: `float64`"
      ],
      "text/plain": [
       "<IPython.core.display.Markdown object>"
      ]
     },
     "metadata": {},
     "output_type": "display_data"
    },
    {
     "data": {
      "text/markdown": [
       "- `weights_110` | shape: `(311,)`, dtype: `float64`"
      ],
      "text/plain": [
       "<IPython.core.display.Markdown object>"
      ]
     },
     "metadata": {},
     "output_type": "display_data"
    },
    {
     "data": {
      "text/markdown": [
       "- `weights_111` | shape: `(311,)`, dtype: `float64`"
      ],
      "text/plain": [
       "<IPython.core.display.Markdown object>"
      ]
     },
     "metadata": {},
     "output_type": "display_data"
    },
    {
     "data": {
      "text/markdown": [
       "- `weights_112` | shape: `(311,)`, dtype: `float64`"
      ],
      "text/plain": [
       "<IPython.core.display.Markdown object>"
      ]
     },
     "metadata": {},
     "output_type": "display_data"
    },
    {
     "data": {
      "text/markdown": [
       "- `weights_113` | shape: `(311,)`, dtype: `float64`"
      ],
      "text/plain": [
       "<IPython.core.display.Markdown object>"
      ]
     },
     "metadata": {},
     "output_type": "display_data"
    },
    {
     "data": {
      "text/markdown": [
       "- `weights_114` | shape: `(311,)`, dtype: `float64`"
      ],
      "text/plain": [
       "<IPython.core.display.Markdown object>"
      ]
     },
     "metadata": {},
     "output_type": "display_data"
    },
    {
     "data": {
      "text/markdown": [
       "- `weights_115` | shape: `(311,)`, dtype: `float64`"
      ],
      "text/plain": [
       "<IPython.core.display.Markdown object>"
      ]
     },
     "metadata": {},
     "output_type": "display_data"
    },
    {
     "data": {
      "text/markdown": [
       "- `weights_116` | shape: `(311,)`, dtype: `float64`"
      ],
      "text/plain": [
       "<IPython.core.display.Markdown object>"
      ]
     },
     "metadata": {},
     "output_type": "display_data"
    },
    {
     "data": {
      "text/markdown": [
       "- `weights_117` | shape: `(311,)`, dtype: `float64`"
      ],
      "text/plain": [
       "<IPython.core.display.Markdown object>"
      ]
     },
     "metadata": {},
     "output_type": "display_data"
    },
    {
     "data": {
      "text/markdown": [
       "- `weights_118` | shape: `(311,)`, dtype: `float64`"
      ],
      "text/plain": [
       "<IPython.core.display.Markdown object>"
      ]
     },
     "metadata": {},
     "output_type": "display_data"
    },
    {
     "data": {
      "text/markdown": [
       "- `weights_119` | shape: `(311,)`, dtype: `float64`"
      ],
      "text/plain": [
       "<IPython.core.display.Markdown object>"
      ]
     },
     "metadata": {},
     "output_type": "display_data"
    },
    {
     "data": {
      "text/markdown": [
       "- `weights_12` | shape: `(311,)`, dtype: `float64`"
      ],
      "text/plain": [
       "<IPython.core.display.Markdown object>"
      ]
     },
     "metadata": {},
     "output_type": "display_data"
    },
    {
     "data": {
      "text/markdown": [
       "- `weights_120` | shape: `(311,)`, dtype: `float64`"
      ],
      "text/plain": [
       "<IPython.core.display.Markdown object>"
      ]
     },
     "metadata": {},
     "output_type": "display_data"
    },
    {
     "data": {
      "text/markdown": [
       "- `weights_121` | shape: `(311,)`, dtype: `float64`"
      ],
      "text/plain": [
       "<IPython.core.display.Markdown object>"
      ]
     },
     "metadata": {},
     "output_type": "display_data"
    },
    {
     "data": {
      "text/markdown": [
       "- `weights_122` | shape: `(311,)`, dtype: `float64`"
      ],
      "text/plain": [
       "<IPython.core.display.Markdown object>"
      ]
     },
     "metadata": {},
     "output_type": "display_data"
    },
    {
     "data": {
      "text/markdown": [
       "- `weights_123` | shape: `(311,)`, dtype: `float64`"
      ],
      "text/plain": [
       "<IPython.core.display.Markdown object>"
      ]
     },
     "metadata": {},
     "output_type": "display_data"
    },
    {
     "data": {
      "text/markdown": [
       "- `weights_124` | shape: `(311,)`, dtype: `float64`"
      ],
      "text/plain": [
       "<IPython.core.display.Markdown object>"
      ]
     },
     "metadata": {},
     "output_type": "display_data"
    },
    {
     "data": {
      "text/markdown": [
       "- `weights_125` | shape: `(311,)`, dtype: `float64`"
      ],
      "text/plain": [
       "<IPython.core.display.Markdown object>"
      ]
     },
     "metadata": {},
     "output_type": "display_data"
    },
    {
     "data": {
      "text/markdown": [
       "- `weights_126` | shape: `(311,)`, dtype: `float64`"
      ],
      "text/plain": [
       "<IPython.core.display.Markdown object>"
      ]
     },
     "metadata": {},
     "output_type": "display_data"
    },
    {
     "data": {
      "text/markdown": [
       "- `weights_127` | shape: `(311,)`, dtype: `float64`"
      ],
      "text/plain": [
       "<IPython.core.display.Markdown object>"
      ]
     },
     "metadata": {},
     "output_type": "display_data"
    },
    {
     "data": {
      "text/markdown": [
       "- `weights_128` | shape: `(311,)`, dtype: `float64`"
      ],
      "text/plain": [
       "<IPython.core.display.Markdown object>"
      ]
     },
     "metadata": {},
     "output_type": "display_data"
    },
    {
     "data": {
      "text/markdown": [
       "- `weights_129` | shape: `(311,)`, dtype: `float64`"
      ],
      "text/plain": [
       "<IPython.core.display.Markdown object>"
      ]
     },
     "metadata": {},
     "output_type": "display_data"
    },
    {
     "data": {
      "text/markdown": [
       "- `weights_13` | shape: `(311,)`, dtype: `float64`"
      ],
      "text/plain": [
       "<IPython.core.display.Markdown object>"
      ]
     },
     "metadata": {},
     "output_type": "display_data"
    },
    {
     "data": {
      "text/markdown": [
       "- `weights_130` | shape: `(311,)`, dtype: `float64`"
      ],
      "text/plain": [
       "<IPython.core.display.Markdown object>"
      ]
     },
     "metadata": {},
     "output_type": "display_data"
    },
    {
     "data": {
      "text/markdown": [
       "- `weights_131` | shape: `(311,)`, dtype: `float64`"
      ],
      "text/plain": [
       "<IPython.core.display.Markdown object>"
      ]
     },
     "metadata": {},
     "output_type": "display_data"
    },
    {
     "data": {
      "text/markdown": [
       "- `weights_132` | shape: `(311,)`, dtype: `float64`"
      ],
      "text/plain": [
       "<IPython.core.display.Markdown object>"
      ]
     },
     "metadata": {},
     "output_type": "display_data"
    },
    {
     "data": {
      "text/markdown": [
       "- `weights_133` | shape: `(311,)`, dtype: `float64`"
      ],
      "text/plain": [
       "<IPython.core.display.Markdown object>"
      ]
     },
     "metadata": {},
     "output_type": "display_data"
    },
    {
     "data": {
      "text/markdown": [
       "- `weights_134` | shape: `(311,)`, dtype: `float64`"
      ],
      "text/plain": [
       "<IPython.core.display.Markdown object>"
      ]
     },
     "metadata": {},
     "output_type": "display_data"
    },
    {
     "data": {
      "text/markdown": [
       "- `weights_135` | shape: `(311,)`, dtype: `float64`"
      ],
      "text/plain": [
       "<IPython.core.display.Markdown object>"
      ]
     },
     "metadata": {},
     "output_type": "display_data"
    },
    {
     "data": {
      "text/markdown": [
       "- `weights_136` | shape: `(311,)`, dtype: `float64`"
      ],
      "text/plain": [
       "<IPython.core.display.Markdown object>"
      ]
     },
     "metadata": {},
     "output_type": "display_data"
    },
    {
     "data": {
      "text/markdown": [
       "- `weights_137` | shape: `(311,)`, dtype: `float64`"
      ],
      "text/plain": [
       "<IPython.core.display.Markdown object>"
      ]
     },
     "metadata": {},
     "output_type": "display_data"
    },
    {
     "data": {
      "text/markdown": [
       "- `weights_138` | shape: `(311,)`, dtype: `float64`"
      ],
      "text/plain": [
       "<IPython.core.display.Markdown object>"
      ]
     },
     "metadata": {},
     "output_type": "display_data"
    },
    {
     "data": {
      "text/markdown": [
       "- `weights_139` | shape: `(311,)`, dtype: `float64`"
      ],
      "text/plain": [
       "<IPython.core.display.Markdown object>"
      ]
     },
     "metadata": {},
     "output_type": "display_data"
    },
    {
     "data": {
      "text/markdown": [
       "- `weights_14` | shape: `(311,)`, dtype: `float64`"
      ],
      "text/plain": [
       "<IPython.core.display.Markdown object>"
      ]
     },
     "metadata": {},
     "output_type": "display_data"
    },
    {
     "data": {
      "text/markdown": [
       "- `weights_140` | shape: `(311,)`, dtype: `float64`"
      ],
      "text/plain": [
       "<IPython.core.display.Markdown object>"
      ]
     },
     "metadata": {},
     "output_type": "display_data"
    },
    {
     "data": {
      "text/markdown": [
       "- `weights_141` | shape: `(311,)`, dtype: `float64`"
      ],
      "text/plain": [
       "<IPython.core.display.Markdown object>"
      ]
     },
     "metadata": {},
     "output_type": "display_data"
    },
    {
     "data": {
      "text/markdown": [
       "- `weights_142` | shape: `(311,)`, dtype: `float64`"
      ],
      "text/plain": [
       "<IPython.core.display.Markdown object>"
      ]
     },
     "metadata": {},
     "output_type": "display_data"
    },
    {
     "data": {
      "text/markdown": [
       "- `weights_143` | shape: `(311,)`, dtype: `float64`"
      ],
      "text/plain": [
       "<IPython.core.display.Markdown object>"
      ]
     },
     "metadata": {},
     "output_type": "display_data"
    },
    {
     "data": {
      "text/markdown": [
       "- `weights_144` | shape: `(311,)`, dtype: `float64`"
      ],
      "text/plain": [
       "<IPython.core.display.Markdown object>"
      ]
     },
     "metadata": {},
     "output_type": "display_data"
    },
    {
     "data": {
      "text/markdown": [
       "- `weights_145` | shape: `(311,)`, dtype: `float64`"
      ],
      "text/plain": [
       "<IPython.core.display.Markdown object>"
      ]
     },
     "metadata": {},
     "output_type": "display_data"
    },
    {
     "data": {
      "text/markdown": [
       "- `weights_146` | shape: `(311,)`, dtype: `float64`"
      ],
      "text/plain": [
       "<IPython.core.display.Markdown object>"
      ]
     },
     "metadata": {},
     "output_type": "display_data"
    },
    {
     "data": {
      "text/markdown": [
       "- `weights_147` | shape: `(311,)`, dtype: `float64`"
      ],
      "text/plain": [
       "<IPython.core.display.Markdown object>"
      ]
     },
     "metadata": {},
     "output_type": "display_data"
    },
    {
     "data": {
      "text/markdown": [
       "- `weights_148` | shape: `(311,)`, dtype: `float64`"
      ],
      "text/plain": [
       "<IPython.core.display.Markdown object>"
      ]
     },
     "metadata": {},
     "output_type": "display_data"
    },
    {
     "data": {
      "text/markdown": [
       "- `weights_149` | shape: `(311,)`, dtype: `float64`"
      ],
      "text/plain": [
       "<IPython.core.display.Markdown object>"
      ]
     },
     "metadata": {},
     "output_type": "display_data"
    },
    {
     "data": {
      "text/markdown": [
       "- `weights_15` | shape: `(311,)`, dtype: `float64`"
      ],
      "text/plain": [
       "<IPython.core.display.Markdown object>"
      ]
     },
     "metadata": {},
     "output_type": "display_data"
    },
    {
     "data": {
      "text/markdown": [
       "- `weights_150` | shape: `(311,)`, dtype: `float64`"
      ],
      "text/plain": [
       "<IPython.core.display.Markdown object>"
      ]
     },
     "metadata": {},
     "output_type": "display_data"
    },
    {
     "data": {
      "text/markdown": [
       "- `weights_151` | shape: `(311,)`, dtype: `float64`"
      ],
      "text/plain": [
       "<IPython.core.display.Markdown object>"
      ]
     },
     "metadata": {},
     "output_type": "display_data"
    },
    {
     "data": {
      "text/markdown": [
       "- `weights_152` | shape: `(311,)`, dtype: `float64`"
      ],
      "text/plain": [
       "<IPython.core.display.Markdown object>"
      ]
     },
     "metadata": {},
     "output_type": "display_data"
    },
    {
     "data": {
      "text/markdown": [
       "- `weights_153` | shape: `(311,)`, dtype: `float64`"
      ],
      "text/plain": [
       "<IPython.core.display.Markdown object>"
      ]
     },
     "metadata": {},
     "output_type": "display_data"
    },
    {
     "data": {
      "text/markdown": [
       "- `weights_154` | shape: `(311,)`, dtype: `float64`"
      ],
      "text/plain": [
       "<IPython.core.display.Markdown object>"
      ]
     },
     "metadata": {},
     "output_type": "display_data"
    },
    {
     "data": {
      "text/markdown": [
       "- `weights_155` | shape: `(311,)`, dtype: `float64`"
      ],
      "text/plain": [
       "<IPython.core.display.Markdown object>"
      ]
     },
     "metadata": {},
     "output_type": "display_data"
    },
    {
     "data": {
      "text/markdown": [
       "- `weights_156` | shape: `(311,)`, dtype: `float64`"
      ],
      "text/plain": [
       "<IPython.core.display.Markdown object>"
      ]
     },
     "metadata": {},
     "output_type": "display_data"
    },
    {
     "data": {
      "text/markdown": [
       "- `weights_157` | shape: `(311,)`, dtype: `float64`"
      ],
      "text/plain": [
       "<IPython.core.display.Markdown object>"
      ]
     },
     "metadata": {},
     "output_type": "display_data"
    },
    {
     "data": {
      "text/markdown": [
       "- `weights_158` | shape: `(311,)`, dtype: `float64`"
      ],
      "text/plain": [
       "<IPython.core.display.Markdown object>"
      ]
     },
     "metadata": {},
     "output_type": "display_data"
    },
    {
     "data": {
      "text/markdown": [
       "- `weights_159` | shape: `(311,)`, dtype: `float64`"
      ],
      "text/plain": [
       "<IPython.core.display.Markdown object>"
      ]
     },
     "metadata": {},
     "output_type": "display_data"
    },
    {
     "data": {
      "text/markdown": [
       "- `weights_16` | shape: `(311,)`, dtype: `float64`"
      ],
      "text/plain": [
       "<IPython.core.display.Markdown object>"
      ]
     },
     "metadata": {},
     "output_type": "display_data"
    },
    {
     "data": {
      "text/markdown": [
       "- `weights_160` | shape: `(311,)`, dtype: `float64`"
      ],
      "text/plain": [
       "<IPython.core.display.Markdown object>"
      ]
     },
     "metadata": {},
     "output_type": "display_data"
    },
    {
     "data": {
      "text/markdown": [
       "- `weights_161` | shape: `(311,)`, dtype: `float64`"
      ],
      "text/plain": [
       "<IPython.core.display.Markdown object>"
      ]
     },
     "metadata": {},
     "output_type": "display_data"
    },
    {
     "data": {
      "text/markdown": [
       "- `weights_162` | shape: `(311,)`, dtype: `float64`"
      ],
      "text/plain": [
       "<IPython.core.display.Markdown object>"
      ]
     },
     "metadata": {},
     "output_type": "display_data"
    },
    {
     "data": {
      "text/markdown": [
       "- `weights_163` | shape: `(311,)`, dtype: `float64`"
      ],
      "text/plain": [
       "<IPython.core.display.Markdown object>"
      ]
     },
     "metadata": {},
     "output_type": "display_data"
    },
    {
     "data": {
      "text/markdown": [
       "- `weights_164` | shape: `(311,)`, dtype: `float64`"
      ],
      "text/plain": [
       "<IPython.core.display.Markdown object>"
      ]
     },
     "metadata": {},
     "output_type": "display_data"
    },
    {
     "data": {
      "text/markdown": [
       "- `weights_165` | shape: `(311,)`, dtype: `float64`"
      ],
      "text/plain": [
       "<IPython.core.display.Markdown object>"
      ]
     },
     "metadata": {},
     "output_type": "display_data"
    },
    {
     "data": {
      "text/markdown": [
       "- `weights_166` | shape: `(311,)`, dtype: `float64`"
      ],
      "text/plain": [
       "<IPython.core.display.Markdown object>"
      ]
     },
     "metadata": {},
     "output_type": "display_data"
    },
    {
     "data": {
      "text/markdown": [
       "- `weights_167` | shape: `(311,)`, dtype: `float64`"
      ],
      "text/plain": [
       "<IPython.core.display.Markdown object>"
      ]
     },
     "metadata": {},
     "output_type": "display_data"
    },
    {
     "data": {
      "text/markdown": [
       "- `weights_168` | shape: `(311,)`, dtype: `float64`"
      ],
      "text/plain": [
       "<IPython.core.display.Markdown object>"
      ]
     },
     "metadata": {},
     "output_type": "display_data"
    },
    {
     "data": {
      "text/markdown": [
       "- `weights_169` | shape: `(311,)`, dtype: `float64`"
      ],
      "text/plain": [
       "<IPython.core.display.Markdown object>"
      ]
     },
     "metadata": {},
     "output_type": "display_data"
    },
    {
     "data": {
      "text/markdown": [
       "- `weights_17` | shape: `(311,)`, dtype: `float64`"
      ],
      "text/plain": [
       "<IPython.core.display.Markdown object>"
      ]
     },
     "metadata": {},
     "output_type": "display_data"
    },
    {
     "data": {
      "text/markdown": [
       "- `weights_170` | shape: `(311,)`, dtype: `float64`"
      ],
      "text/plain": [
       "<IPython.core.display.Markdown object>"
      ]
     },
     "metadata": {},
     "output_type": "display_data"
    },
    {
     "data": {
      "text/markdown": [
       "- `weights_171` | shape: `(311,)`, dtype: `float64`"
      ],
      "text/plain": [
       "<IPython.core.display.Markdown object>"
      ]
     },
     "metadata": {},
     "output_type": "display_data"
    },
    {
     "data": {
      "text/markdown": [
       "- `weights_172` | shape: `(311,)`, dtype: `float64`"
      ],
      "text/plain": [
       "<IPython.core.display.Markdown object>"
      ]
     },
     "metadata": {},
     "output_type": "display_data"
    },
    {
     "data": {
      "text/markdown": [
       "- `weights_173` | shape: `(311,)`, dtype: `float64`"
      ],
      "text/plain": [
       "<IPython.core.display.Markdown object>"
      ]
     },
     "metadata": {},
     "output_type": "display_data"
    },
    {
     "data": {
      "text/markdown": [
       "- `weights_174` | shape: `(311,)`, dtype: `float64`"
      ],
      "text/plain": [
       "<IPython.core.display.Markdown object>"
      ]
     },
     "metadata": {},
     "output_type": "display_data"
    },
    {
     "data": {
      "text/markdown": [
       "- `weights_175` | shape: `(311,)`, dtype: `float64`"
      ],
      "text/plain": [
       "<IPython.core.display.Markdown object>"
      ]
     },
     "metadata": {},
     "output_type": "display_data"
    },
    {
     "data": {
      "text/markdown": [
       "- `weights_176` | shape: `(311,)`, dtype: `float64`"
      ],
      "text/plain": [
       "<IPython.core.display.Markdown object>"
      ]
     },
     "metadata": {},
     "output_type": "display_data"
    },
    {
     "data": {
      "text/markdown": [
       "- `weights_177` | shape: `(311,)`, dtype: `float64`"
      ],
      "text/plain": [
       "<IPython.core.display.Markdown object>"
      ]
     },
     "metadata": {},
     "output_type": "display_data"
    },
    {
     "data": {
      "text/markdown": [
       "- `weights_178` | shape: `(311,)`, dtype: `float64`"
      ],
      "text/plain": [
       "<IPython.core.display.Markdown object>"
      ]
     },
     "metadata": {},
     "output_type": "display_data"
    },
    {
     "data": {
      "text/markdown": [
       "- `weights_179` | shape: `(311,)`, dtype: `float64`"
      ],
      "text/plain": [
       "<IPython.core.display.Markdown object>"
      ]
     },
     "metadata": {},
     "output_type": "display_data"
    },
    {
     "data": {
      "text/markdown": [
       "- `weights_18` | shape: `(311,)`, dtype: `float64`"
      ],
      "text/plain": [
       "<IPython.core.display.Markdown object>"
      ]
     },
     "metadata": {},
     "output_type": "display_data"
    },
    {
     "data": {
      "text/markdown": [
       "- `weights_180` | shape: `(311,)`, dtype: `float64`"
      ],
      "text/plain": [
       "<IPython.core.display.Markdown object>"
      ]
     },
     "metadata": {},
     "output_type": "display_data"
    },
    {
     "data": {
      "text/markdown": [
       "- `weights_181` | shape: `(311,)`, dtype: `float64`"
      ],
      "text/plain": [
       "<IPython.core.display.Markdown object>"
      ]
     },
     "metadata": {},
     "output_type": "display_data"
    },
    {
     "data": {
      "text/markdown": [
       "- `weights_182` | shape: `(311,)`, dtype: `float64`"
      ],
      "text/plain": [
       "<IPython.core.display.Markdown object>"
      ]
     },
     "metadata": {},
     "output_type": "display_data"
    },
    {
     "data": {
      "text/markdown": [
       "- `weights_183` | shape: `(311,)`, dtype: `float64`"
      ],
      "text/plain": [
       "<IPython.core.display.Markdown object>"
      ]
     },
     "metadata": {},
     "output_type": "display_data"
    },
    {
     "data": {
      "text/markdown": [
       "- `weights_184` | shape: `(311,)`, dtype: `float64`"
      ],
      "text/plain": [
       "<IPython.core.display.Markdown object>"
      ]
     },
     "metadata": {},
     "output_type": "display_data"
    },
    {
     "data": {
      "text/markdown": [
       "- `weights_185` | shape: `(311,)`, dtype: `float64`"
      ],
      "text/plain": [
       "<IPython.core.display.Markdown object>"
      ]
     },
     "metadata": {},
     "output_type": "display_data"
    },
    {
     "data": {
      "text/markdown": [
       "- `weights_186` | shape: `(311,)`, dtype: `float64`"
      ],
      "text/plain": [
       "<IPython.core.display.Markdown object>"
      ]
     },
     "metadata": {},
     "output_type": "display_data"
    },
    {
     "data": {
      "text/markdown": [
       "- `weights_187` | shape: `(311,)`, dtype: `float64`"
      ],
      "text/plain": [
       "<IPython.core.display.Markdown object>"
      ]
     },
     "metadata": {},
     "output_type": "display_data"
    },
    {
     "data": {
      "text/markdown": [
       "- `weights_188` | shape: `(311,)`, dtype: `float64`"
      ],
      "text/plain": [
       "<IPython.core.display.Markdown object>"
      ]
     },
     "metadata": {},
     "output_type": "display_data"
    },
    {
     "data": {
      "text/markdown": [
       "- `weights_189` | shape: `(311,)`, dtype: `float64`"
      ],
      "text/plain": [
       "<IPython.core.display.Markdown object>"
      ]
     },
     "metadata": {},
     "output_type": "display_data"
    },
    {
     "data": {
      "text/markdown": [
       "- `weights_19` | shape: `(311,)`, dtype: `float64`"
      ],
      "text/plain": [
       "<IPython.core.display.Markdown object>"
      ]
     },
     "metadata": {},
     "output_type": "display_data"
    },
    {
     "data": {
      "text/markdown": [
       "- `weights_190` | shape: `(311,)`, dtype: `float64`"
      ],
      "text/plain": [
       "<IPython.core.display.Markdown object>"
      ]
     },
     "metadata": {},
     "output_type": "display_data"
    },
    {
     "data": {
      "text/markdown": [
       "- `weights_191` | shape: `(311,)`, dtype: `float64`"
      ],
      "text/plain": [
       "<IPython.core.display.Markdown object>"
      ]
     },
     "metadata": {},
     "output_type": "display_data"
    },
    {
     "data": {
      "text/markdown": [
       "- `weights_192` | shape: `(311,)`, dtype: `float64`"
      ],
      "text/plain": [
       "<IPython.core.display.Markdown object>"
      ]
     },
     "metadata": {},
     "output_type": "display_data"
    },
    {
     "data": {
      "text/markdown": [
       "- `weights_193` | shape: `(311,)`, dtype: `float64`"
      ],
      "text/plain": [
       "<IPython.core.display.Markdown object>"
      ]
     },
     "metadata": {},
     "output_type": "display_data"
    },
    {
     "data": {
      "text/markdown": [
       "- `weights_194` | shape: `(311,)`, dtype: `float64`"
      ],
      "text/plain": [
       "<IPython.core.display.Markdown object>"
      ]
     },
     "metadata": {},
     "output_type": "display_data"
    },
    {
     "data": {
      "text/markdown": [
       "- `weights_195` | shape: `(311,)`, dtype: `float64`"
      ],
      "text/plain": [
       "<IPython.core.display.Markdown object>"
      ]
     },
     "metadata": {},
     "output_type": "display_data"
    },
    {
     "data": {
      "text/markdown": [
       "- `weights_196` | shape: `(311,)`, dtype: `float64`"
      ],
      "text/plain": [
       "<IPython.core.display.Markdown object>"
      ]
     },
     "metadata": {},
     "output_type": "display_data"
    },
    {
     "data": {
      "text/markdown": [
       "- `weights_197` | shape: `(311,)`, dtype: `float64`"
      ],
      "text/plain": [
       "<IPython.core.display.Markdown object>"
      ]
     },
     "metadata": {},
     "output_type": "display_data"
    },
    {
     "data": {
      "text/markdown": [
       "- `weights_198` | shape: `(311,)`, dtype: `float64`"
      ],
      "text/plain": [
       "<IPython.core.display.Markdown object>"
      ]
     },
     "metadata": {},
     "output_type": "display_data"
    },
    {
     "data": {
      "text/markdown": [
       "- `weights_199` | shape: `(311,)`, dtype: `float64`"
      ],
      "text/plain": [
       "<IPython.core.display.Markdown object>"
      ]
     },
     "metadata": {},
     "output_type": "display_data"
    },
    {
     "data": {
      "text/markdown": [
       "- `weights_2` | shape: `(311,)`, dtype: `float64`"
      ],
      "text/plain": [
       "<IPython.core.display.Markdown object>"
      ]
     },
     "metadata": {},
     "output_type": "display_data"
    },
    {
     "data": {
      "text/markdown": [
       "- `weights_20` | shape: `(311,)`, dtype: `float64`"
      ],
      "text/plain": [
       "<IPython.core.display.Markdown object>"
      ]
     },
     "metadata": {},
     "output_type": "display_data"
    },
    {
     "data": {
      "text/markdown": [
       "- `weights_200` | shape: `(311,)`, dtype: `float64`"
      ],
      "text/plain": [
       "<IPython.core.display.Markdown object>"
      ]
     },
     "metadata": {},
     "output_type": "display_data"
    },
    {
     "data": {
      "text/markdown": [
       "- `weights_201` | shape: `(311,)`, dtype: `float64`"
      ],
      "text/plain": [
       "<IPython.core.display.Markdown object>"
      ]
     },
     "metadata": {},
     "output_type": "display_data"
    },
    {
     "data": {
      "text/markdown": [
       "- `weights_202` | shape: `(311,)`, dtype: `float64`"
      ],
      "text/plain": [
       "<IPython.core.display.Markdown object>"
      ]
     },
     "metadata": {},
     "output_type": "display_data"
    },
    {
     "data": {
      "text/markdown": [
       "- `weights_203` | shape: `(311,)`, dtype: `float64`"
      ],
      "text/plain": [
       "<IPython.core.display.Markdown object>"
      ]
     },
     "metadata": {},
     "output_type": "display_data"
    },
    {
     "data": {
      "text/markdown": [
       "- `weights_204` | shape: `(311,)`, dtype: `float64`"
      ],
      "text/plain": [
       "<IPython.core.display.Markdown object>"
      ]
     },
     "metadata": {},
     "output_type": "display_data"
    },
    {
     "data": {
      "text/markdown": [
       "- `weights_205` | shape: `(311,)`, dtype: `float64`"
      ],
      "text/plain": [
       "<IPython.core.display.Markdown object>"
      ]
     },
     "metadata": {},
     "output_type": "display_data"
    },
    {
     "data": {
      "text/markdown": [
       "- `weights_206` | shape: `(311,)`, dtype: `float64`"
      ],
      "text/plain": [
       "<IPython.core.display.Markdown object>"
      ]
     },
     "metadata": {},
     "output_type": "display_data"
    },
    {
     "data": {
      "text/markdown": [
       "- `weights_207` | shape: `(311,)`, dtype: `float64`"
      ],
      "text/plain": [
       "<IPython.core.display.Markdown object>"
      ]
     },
     "metadata": {},
     "output_type": "display_data"
    },
    {
     "data": {
      "text/markdown": [
       "- `weights_208` | shape: `(311,)`, dtype: `float64`"
      ],
      "text/plain": [
       "<IPython.core.display.Markdown object>"
      ]
     },
     "metadata": {},
     "output_type": "display_data"
    },
    {
     "data": {
      "text/markdown": [
       "- `weights_209` | shape: `(311,)`, dtype: `float64`"
      ],
      "text/plain": [
       "<IPython.core.display.Markdown object>"
      ]
     },
     "metadata": {},
     "output_type": "display_data"
    },
    {
     "data": {
      "text/markdown": [
       "- `weights_21` | shape: `(311,)`, dtype: `float64`"
      ],
      "text/plain": [
       "<IPython.core.display.Markdown object>"
      ]
     },
     "metadata": {},
     "output_type": "display_data"
    },
    {
     "data": {
      "text/markdown": [
       "- `weights_210` | shape: `(311,)`, dtype: `float64`"
      ],
      "text/plain": [
       "<IPython.core.display.Markdown object>"
      ]
     },
     "metadata": {},
     "output_type": "display_data"
    },
    {
     "data": {
      "text/markdown": [
       "- `weights_211` | shape: `(311,)`, dtype: `float64`"
      ],
      "text/plain": [
       "<IPython.core.display.Markdown object>"
      ]
     },
     "metadata": {},
     "output_type": "display_data"
    },
    {
     "data": {
      "text/markdown": [
       "- `weights_212` | shape: `(311,)`, dtype: `float64`"
      ],
      "text/plain": [
       "<IPython.core.display.Markdown object>"
      ]
     },
     "metadata": {},
     "output_type": "display_data"
    },
    {
     "data": {
      "text/markdown": [
       "- `weights_213` | shape: `(311,)`, dtype: `float64`"
      ],
      "text/plain": [
       "<IPython.core.display.Markdown object>"
      ]
     },
     "metadata": {},
     "output_type": "display_data"
    },
    {
     "data": {
      "text/markdown": [
       "- `weights_214` | shape: `(311,)`, dtype: `float64`"
      ],
      "text/plain": [
       "<IPython.core.display.Markdown object>"
      ]
     },
     "metadata": {},
     "output_type": "display_data"
    },
    {
     "data": {
      "text/markdown": [
       "- `weights_215` | shape: `(311,)`, dtype: `float64`"
      ],
      "text/plain": [
       "<IPython.core.display.Markdown object>"
      ]
     },
     "metadata": {},
     "output_type": "display_data"
    },
    {
     "data": {
      "text/markdown": [
       "- `weights_216` | shape: `(311,)`, dtype: `float64`"
      ],
      "text/plain": [
       "<IPython.core.display.Markdown object>"
      ]
     },
     "metadata": {},
     "output_type": "display_data"
    },
    {
     "data": {
      "text/markdown": [
       "- `weights_217` | shape: `(311,)`, dtype: `float64`"
      ],
      "text/plain": [
       "<IPython.core.display.Markdown object>"
      ]
     },
     "metadata": {},
     "output_type": "display_data"
    },
    {
     "data": {
      "text/markdown": [
       "- `weights_218` | shape: `(311,)`, dtype: `float64`"
      ],
      "text/plain": [
       "<IPython.core.display.Markdown object>"
      ]
     },
     "metadata": {},
     "output_type": "display_data"
    },
    {
     "data": {
      "text/markdown": [
       "- `weights_219` | shape: `(311,)`, dtype: `float64`"
      ],
      "text/plain": [
       "<IPython.core.display.Markdown object>"
      ]
     },
     "metadata": {},
     "output_type": "display_data"
    },
    {
     "data": {
      "text/markdown": [
       "- `weights_22` | shape: `(311,)`, dtype: `float64`"
      ],
      "text/plain": [
       "<IPython.core.display.Markdown object>"
      ]
     },
     "metadata": {},
     "output_type": "display_data"
    },
    {
     "data": {
      "text/markdown": [
       "- `weights_220` | shape: `(311,)`, dtype: `float64`"
      ],
      "text/plain": [
       "<IPython.core.display.Markdown object>"
      ]
     },
     "metadata": {},
     "output_type": "display_data"
    },
    {
     "data": {
      "text/markdown": [
       "- `weights_221` | shape: `(311,)`, dtype: `float64`"
      ],
      "text/plain": [
       "<IPython.core.display.Markdown object>"
      ]
     },
     "metadata": {},
     "output_type": "display_data"
    },
    {
     "data": {
      "text/markdown": [
       "- `weights_222` | shape: `(311,)`, dtype: `float64`"
      ],
      "text/plain": [
       "<IPython.core.display.Markdown object>"
      ]
     },
     "metadata": {},
     "output_type": "display_data"
    },
    {
     "data": {
      "text/markdown": [
       "- `weights_223` | shape: `(311,)`, dtype: `float64`"
      ],
      "text/plain": [
       "<IPython.core.display.Markdown object>"
      ]
     },
     "metadata": {},
     "output_type": "display_data"
    },
    {
     "data": {
      "text/markdown": [
       "- `weights_224` | shape: `(311,)`, dtype: `float64`"
      ],
      "text/plain": [
       "<IPython.core.display.Markdown object>"
      ]
     },
     "metadata": {},
     "output_type": "display_data"
    },
    {
     "data": {
      "text/markdown": [
       "- `weights_225` | shape: `(311,)`, dtype: `float64`"
      ],
      "text/plain": [
       "<IPython.core.display.Markdown object>"
      ]
     },
     "metadata": {},
     "output_type": "display_data"
    },
    {
     "data": {
      "text/markdown": [
       "- `weights_226` | shape: `(311,)`, dtype: `float64`"
      ],
      "text/plain": [
       "<IPython.core.display.Markdown object>"
      ]
     },
     "metadata": {},
     "output_type": "display_data"
    },
    {
     "data": {
      "text/markdown": [
       "- `weights_227` | shape: `(311,)`, dtype: `float64`"
      ],
      "text/plain": [
       "<IPython.core.display.Markdown object>"
      ]
     },
     "metadata": {},
     "output_type": "display_data"
    },
    {
     "data": {
      "text/markdown": [
       "- `weights_23` | shape: `(311,)`, dtype: `float64`"
      ],
      "text/plain": [
       "<IPython.core.display.Markdown object>"
      ]
     },
     "metadata": {},
     "output_type": "display_data"
    },
    {
     "data": {
      "text/markdown": [
       "- `weights_24` | shape: `(311,)`, dtype: `float64`"
      ],
      "text/plain": [
       "<IPython.core.display.Markdown object>"
      ]
     },
     "metadata": {},
     "output_type": "display_data"
    },
    {
     "data": {
      "text/markdown": [
       "- `weights_25` | shape: `(311,)`, dtype: `float64`"
      ],
      "text/plain": [
       "<IPython.core.display.Markdown object>"
      ]
     },
     "metadata": {},
     "output_type": "display_data"
    },
    {
     "data": {
      "text/markdown": [
       "- `weights_26` | shape: `(311,)`, dtype: `float64`"
      ],
      "text/plain": [
       "<IPython.core.display.Markdown object>"
      ]
     },
     "metadata": {},
     "output_type": "display_data"
    },
    {
     "data": {
      "text/markdown": [
       "- `weights_27` | shape: `(311,)`, dtype: `float64`"
      ],
      "text/plain": [
       "<IPython.core.display.Markdown object>"
      ]
     },
     "metadata": {},
     "output_type": "display_data"
    },
    {
     "data": {
      "text/markdown": [
       "- `weights_28` | shape: `(311,)`, dtype: `float64`"
      ],
      "text/plain": [
       "<IPython.core.display.Markdown object>"
      ]
     },
     "metadata": {},
     "output_type": "display_data"
    },
    {
     "data": {
      "text/markdown": [
       "- `weights_29` | shape: `(311,)`, dtype: `float64`"
      ],
      "text/plain": [
       "<IPython.core.display.Markdown object>"
      ]
     },
     "metadata": {},
     "output_type": "display_data"
    },
    {
     "data": {
      "text/markdown": [
       "- `weights_3` | shape: `(311,)`, dtype: `float64`"
      ],
      "text/plain": [
       "<IPython.core.display.Markdown object>"
      ]
     },
     "metadata": {},
     "output_type": "display_data"
    },
    {
     "data": {
      "text/markdown": [
       "- `weights_30` | shape: `(311,)`, dtype: `float64`"
      ],
      "text/plain": [
       "<IPython.core.display.Markdown object>"
      ]
     },
     "metadata": {},
     "output_type": "display_data"
    },
    {
     "data": {
      "text/markdown": [
       "- `weights_31` | shape: `(311,)`, dtype: `float64`"
      ],
      "text/plain": [
       "<IPython.core.display.Markdown object>"
      ]
     },
     "metadata": {},
     "output_type": "display_data"
    },
    {
     "data": {
      "text/markdown": [
       "- `weights_32` | shape: `(311,)`, dtype: `float64`"
      ],
      "text/plain": [
       "<IPython.core.display.Markdown object>"
      ]
     },
     "metadata": {},
     "output_type": "display_data"
    },
    {
     "data": {
      "text/markdown": [
       "- `weights_33` | shape: `(311,)`, dtype: `float64`"
      ],
      "text/plain": [
       "<IPython.core.display.Markdown object>"
      ]
     },
     "metadata": {},
     "output_type": "display_data"
    },
    {
     "data": {
      "text/markdown": [
       "- `weights_34` | shape: `(311,)`, dtype: `float64`"
      ],
      "text/plain": [
       "<IPython.core.display.Markdown object>"
      ]
     },
     "metadata": {},
     "output_type": "display_data"
    },
    {
     "data": {
      "text/markdown": [
       "- `weights_35` | shape: `(311,)`, dtype: `float64`"
      ],
      "text/plain": [
       "<IPython.core.display.Markdown object>"
      ]
     },
     "metadata": {},
     "output_type": "display_data"
    },
    {
     "data": {
      "text/markdown": [
       "- `weights_36` | shape: `(311,)`, dtype: `float64`"
      ],
      "text/plain": [
       "<IPython.core.display.Markdown object>"
      ]
     },
     "metadata": {},
     "output_type": "display_data"
    },
    {
     "data": {
      "text/markdown": [
       "- `weights_37` | shape: `(311,)`, dtype: `float64`"
      ],
      "text/plain": [
       "<IPython.core.display.Markdown object>"
      ]
     },
     "metadata": {},
     "output_type": "display_data"
    },
    {
     "data": {
      "text/markdown": [
       "- `weights_38` | shape: `(311,)`, dtype: `float64`"
      ],
      "text/plain": [
       "<IPython.core.display.Markdown object>"
      ]
     },
     "metadata": {},
     "output_type": "display_data"
    },
    {
     "data": {
      "text/markdown": [
       "- `weights_39` | shape: `(311,)`, dtype: `float64`"
      ],
      "text/plain": [
       "<IPython.core.display.Markdown object>"
      ]
     },
     "metadata": {},
     "output_type": "display_data"
    },
    {
     "data": {
      "text/markdown": [
       "- `weights_4` | shape: `(311,)`, dtype: `float64`"
      ],
      "text/plain": [
       "<IPython.core.display.Markdown object>"
      ]
     },
     "metadata": {},
     "output_type": "display_data"
    },
    {
     "data": {
      "text/markdown": [
       "- `weights_40` | shape: `(311,)`, dtype: `float64`"
      ],
      "text/plain": [
       "<IPython.core.display.Markdown object>"
      ]
     },
     "metadata": {},
     "output_type": "display_data"
    },
    {
     "data": {
      "text/markdown": [
       "- `weights_41` | shape: `(311,)`, dtype: `float64`"
      ],
      "text/plain": [
       "<IPython.core.display.Markdown object>"
      ]
     },
     "metadata": {},
     "output_type": "display_data"
    },
    {
     "data": {
      "text/markdown": [
       "- `weights_42` | shape: `(311,)`, dtype: `float64`"
      ],
      "text/plain": [
       "<IPython.core.display.Markdown object>"
      ]
     },
     "metadata": {},
     "output_type": "display_data"
    },
    {
     "data": {
      "text/markdown": [
       "- `weights_43` | shape: `(311,)`, dtype: `float64`"
      ],
      "text/plain": [
       "<IPython.core.display.Markdown object>"
      ]
     },
     "metadata": {},
     "output_type": "display_data"
    },
    {
     "data": {
      "text/markdown": [
       "- `weights_44` | shape: `(311,)`, dtype: `float64`"
      ],
      "text/plain": [
       "<IPython.core.display.Markdown object>"
      ]
     },
     "metadata": {},
     "output_type": "display_data"
    },
    {
     "data": {
      "text/markdown": [
       "- `weights_45` | shape: `(311,)`, dtype: `float64`"
      ],
      "text/plain": [
       "<IPython.core.display.Markdown object>"
      ]
     },
     "metadata": {},
     "output_type": "display_data"
    },
    {
     "data": {
      "text/markdown": [
       "- `weights_46` | shape: `(311,)`, dtype: `float64`"
      ],
      "text/plain": [
       "<IPython.core.display.Markdown object>"
      ]
     },
     "metadata": {},
     "output_type": "display_data"
    },
    {
     "data": {
      "text/markdown": [
       "- `weights_47` | shape: `(311,)`, dtype: `float64`"
      ],
      "text/plain": [
       "<IPython.core.display.Markdown object>"
      ]
     },
     "metadata": {},
     "output_type": "display_data"
    },
    {
     "data": {
      "text/markdown": [
       "- `weights_48` | shape: `(311,)`, dtype: `float64`"
      ],
      "text/plain": [
       "<IPython.core.display.Markdown object>"
      ]
     },
     "metadata": {},
     "output_type": "display_data"
    },
    {
     "data": {
      "text/markdown": [
       "- `weights_49` | shape: `(311,)`, dtype: `float64`"
      ],
      "text/plain": [
       "<IPython.core.display.Markdown object>"
      ]
     },
     "metadata": {},
     "output_type": "display_data"
    },
    {
     "data": {
      "text/markdown": [
       "- `weights_5` | shape: `(311,)`, dtype: `float64`"
      ],
      "text/plain": [
       "<IPython.core.display.Markdown object>"
      ]
     },
     "metadata": {},
     "output_type": "display_data"
    },
    {
     "data": {
      "text/markdown": [
       "- `weights_50` | shape: `(311,)`, dtype: `float64`"
      ],
      "text/plain": [
       "<IPython.core.display.Markdown object>"
      ]
     },
     "metadata": {},
     "output_type": "display_data"
    },
    {
     "data": {
      "text/markdown": [
       "- `weights_51` | shape: `(311,)`, dtype: `float64`"
      ],
      "text/plain": [
       "<IPython.core.display.Markdown object>"
      ]
     },
     "metadata": {},
     "output_type": "display_data"
    },
    {
     "data": {
      "text/markdown": [
       "- `weights_52` | shape: `(311,)`, dtype: `float64`"
      ],
      "text/plain": [
       "<IPython.core.display.Markdown object>"
      ]
     },
     "metadata": {},
     "output_type": "display_data"
    },
    {
     "data": {
      "text/markdown": [
       "- `weights_53` | shape: `(311,)`, dtype: `float64`"
      ],
      "text/plain": [
       "<IPython.core.display.Markdown object>"
      ]
     },
     "metadata": {},
     "output_type": "display_data"
    },
    {
     "data": {
      "text/markdown": [
       "- `weights_54` | shape: `(311,)`, dtype: `float64`"
      ],
      "text/plain": [
       "<IPython.core.display.Markdown object>"
      ]
     },
     "metadata": {},
     "output_type": "display_data"
    },
    {
     "data": {
      "text/markdown": [
       "- `weights_55` | shape: `(311,)`, dtype: `float64`"
      ],
      "text/plain": [
       "<IPython.core.display.Markdown object>"
      ]
     },
     "metadata": {},
     "output_type": "display_data"
    },
    {
     "data": {
      "text/markdown": [
       "- `weights_56` | shape: `(311,)`, dtype: `float64`"
      ],
      "text/plain": [
       "<IPython.core.display.Markdown object>"
      ]
     },
     "metadata": {},
     "output_type": "display_data"
    },
    {
     "data": {
      "text/markdown": [
       "- `weights_57` | shape: `(311,)`, dtype: `float64`"
      ],
      "text/plain": [
       "<IPython.core.display.Markdown object>"
      ]
     },
     "metadata": {},
     "output_type": "display_data"
    },
    {
     "data": {
      "text/markdown": [
       "- `weights_58` | shape: `(311,)`, dtype: `float64`"
      ],
      "text/plain": [
       "<IPython.core.display.Markdown object>"
      ]
     },
     "metadata": {},
     "output_type": "display_data"
    },
    {
     "data": {
      "text/markdown": [
       "- `weights_59` | shape: `(311,)`, dtype: `float64`"
      ],
      "text/plain": [
       "<IPython.core.display.Markdown object>"
      ]
     },
     "metadata": {},
     "output_type": "display_data"
    },
    {
     "data": {
      "text/markdown": [
       "- `weights_6` | shape: `(311,)`, dtype: `float64`"
      ],
      "text/plain": [
       "<IPython.core.display.Markdown object>"
      ]
     },
     "metadata": {},
     "output_type": "display_data"
    },
    {
     "data": {
      "text/markdown": [
       "- `weights_60` | shape: `(311,)`, dtype: `float64`"
      ],
      "text/plain": [
       "<IPython.core.display.Markdown object>"
      ]
     },
     "metadata": {},
     "output_type": "display_data"
    },
    {
     "data": {
      "text/markdown": [
       "- `weights_61` | shape: `(311,)`, dtype: `float64`"
      ],
      "text/plain": [
       "<IPython.core.display.Markdown object>"
      ]
     },
     "metadata": {},
     "output_type": "display_data"
    },
    {
     "data": {
      "text/markdown": [
       "- `weights_62` | shape: `(311,)`, dtype: `float64`"
      ],
      "text/plain": [
       "<IPython.core.display.Markdown object>"
      ]
     },
     "metadata": {},
     "output_type": "display_data"
    },
    {
     "data": {
      "text/markdown": [
       "- `weights_63` | shape: `(311,)`, dtype: `float64`"
      ],
      "text/plain": [
       "<IPython.core.display.Markdown object>"
      ]
     },
     "metadata": {},
     "output_type": "display_data"
    },
    {
     "data": {
      "text/markdown": [
       "- `weights_64` | shape: `(311,)`, dtype: `float64`"
      ],
      "text/plain": [
       "<IPython.core.display.Markdown object>"
      ]
     },
     "metadata": {},
     "output_type": "display_data"
    },
    {
     "data": {
      "text/markdown": [
       "- `weights_65` | shape: `(311,)`, dtype: `float64`"
      ],
      "text/plain": [
       "<IPython.core.display.Markdown object>"
      ]
     },
     "metadata": {},
     "output_type": "display_data"
    },
    {
     "data": {
      "text/markdown": [
       "- `weights_66` | shape: `(311,)`, dtype: `float64`"
      ],
      "text/plain": [
       "<IPython.core.display.Markdown object>"
      ]
     },
     "metadata": {},
     "output_type": "display_data"
    },
    {
     "data": {
      "text/markdown": [
       "- `weights_67` | shape: `(311,)`, dtype: `float64`"
      ],
      "text/plain": [
       "<IPython.core.display.Markdown object>"
      ]
     },
     "metadata": {},
     "output_type": "display_data"
    },
    {
     "data": {
      "text/markdown": [
       "- `weights_68` | shape: `(311,)`, dtype: `float64`"
      ],
      "text/plain": [
       "<IPython.core.display.Markdown object>"
      ]
     },
     "metadata": {},
     "output_type": "display_data"
    },
    {
     "data": {
      "text/markdown": [
       "- `weights_69` | shape: `(311,)`, dtype: `float64`"
      ],
      "text/plain": [
       "<IPython.core.display.Markdown object>"
      ]
     },
     "metadata": {},
     "output_type": "display_data"
    },
    {
     "data": {
      "text/markdown": [
       "- `weights_7` | shape: `(311,)`, dtype: `float64`"
      ],
      "text/plain": [
       "<IPython.core.display.Markdown object>"
      ]
     },
     "metadata": {},
     "output_type": "display_data"
    },
    {
     "data": {
      "text/markdown": [
       "- `weights_70` | shape: `(311,)`, dtype: `float64`"
      ],
      "text/plain": [
       "<IPython.core.display.Markdown object>"
      ]
     },
     "metadata": {},
     "output_type": "display_data"
    },
    {
     "data": {
      "text/markdown": [
       "- `weights_71` | shape: `(311,)`, dtype: `float64`"
      ],
      "text/plain": [
       "<IPython.core.display.Markdown object>"
      ]
     },
     "metadata": {},
     "output_type": "display_data"
    },
    {
     "data": {
      "text/markdown": [
       "- `weights_72` | shape: `(311,)`, dtype: `float64`"
      ],
      "text/plain": [
       "<IPython.core.display.Markdown object>"
      ]
     },
     "metadata": {},
     "output_type": "display_data"
    },
    {
     "data": {
      "text/markdown": [
       "- `weights_73` | shape: `(311,)`, dtype: `float64`"
      ],
      "text/plain": [
       "<IPython.core.display.Markdown object>"
      ]
     },
     "metadata": {},
     "output_type": "display_data"
    },
    {
     "data": {
      "text/markdown": [
       "- `weights_74` | shape: `(311,)`, dtype: `float64`"
      ],
      "text/plain": [
       "<IPython.core.display.Markdown object>"
      ]
     },
     "metadata": {},
     "output_type": "display_data"
    },
    {
     "data": {
      "text/markdown": [
       "- `weights_75` | shape: `(311,)`, dtype: `float64`"
      ],
      "text/plain": [
       "<IPython.core.display.Markdown object>"
      ]
     },
     "metadata": {},
     "output_type": "display_data"
    },
    {
     "data": {
      "text/markdown": [
       "- `weights_76` | shape: `(311,)`, dtype: `float64`"
      ],
      "text/plain": [
       "<IPython.core.display.Markdown object>"
      ]
     },
     "metadata": {},
     "output_type": "display_data"
    },
    {
     "data": {
      "text/markdown": [
       "- `weights_77` | shape: `(311,)`, dtype: `float64`"
      ],
      "text/plain": [
       "<IPython.core.display.Markdown object>"
      ]
     },
     "metadata": {},
     "output_type": "display_data"
    },
    {
     "data": {
      "text/markdown": [
       "- `weights_78` | shape: `(311,)`, dtype: `float64`"
      ],
      "text/plain": [
       "<IPython.core.display.Markdown object>"
      ]
     },
     "metadata": {},
     "output_type": "display_data"
    },
    {
     "data": {
      "text/markdown": [
       "- `weights_79` | shape: `(311,)`, dtype: `float64`"
      ],
      "text/plain": [
       "<IPython.core.display.Markdown object>"
      ]
     },
     "metadata": {},
     "output_type": "display_data"
    },
    {
     "data": {
      "text/markdown": [
       "- `weights_8` | shape: `(311,)`, dtype: `float64`"
      ],
      "text/plain": [
       "<IPython.core.display.Markdown object>"
      ]
     },
     "metadata": {},
     "output_type": "display_data"
    },
    {
     "data": {
      "text/markdown": [
       "- `weights_80` | shape: `(311,)`, dtype: `float64`"
      ],
      "text/plain": [
       "<IPython.core.display.Markdown object>"
      ]
     },
     "metadata": {},
     "output_type": "display_data"
    },
    {
     "data": {
      "text/markdown": [
       "- `weights_81` | shape: `(311,)`, dtype: `float64`"
      ],
      "text/plain": [
       "<IPython.core.display.Markdown object>"
      ]
     },
     "metadata": {},
     "output_type": "display_data"
    },
    {
     "data": {
      "text/markdown": [
       "- `weights_82` | shape: `(311,)`, dtype: `float64`"
      ],
      "text/plain": [
       "<IPython.core.display.Markdown object>"
      ]
     },
     "metadata": {},
     "output_type": "display_data"
    },
    {
     "data": {
      "text/markdown": [
       "- `weights_83` | shape: `(311,)`, dtype: `float64`"
      ],
      "text/plain": [
       "<IPython.core.display.Markdown object>"
      ]
     },
     "metadata": {},
     "output_type": "display_data"
    },
    {
     "data": {
      "text/markdown": [
       "- `weights_84` | shape: `(311,)`, dtype: `float64`"
      ],
      "text/plain": [
       "<IPython.core.display.Markdown object>"
      ]
     },
     "metadata": {},
     "output_type": "display_data"
    },
    {
     "data": {
      "text/markdown": [
       "- `weights_85` | shape: `(311,)`, dtype: `float64`"
      ],
      "text/plain": [
       "<IPython.core.display.Markdown object>"
      ]
     },
     "metadata": {},
     "output_type": "display_data"
    },
    {
     "data": {
      "text/markdown": [
       "- `weights_86` | shape: `(311,)`, dtype: `float64`"
      ],
      "text/plain": [
       "<IPython.core.display.Markdown object>"
      ]
     },
     "metadata": {},
     "output_type": "display_data"
    },
    {
     "data": {
      "text/markdown": [
       "- `weights_87` | shape: `(311,)`, dtype: `float64`"
      ],
      "text/plain": [
       "<IPython.core.display.Markdown object>"
      ]
     },
     "metadata": {},
     "output_type": "display_data"
    },
    {
     "data": {
      "text/markdown": [
       "- `weights_88` | shape: `(311,)`, dtype: `float64`"
      ],
      "text/plain": [
       "<IPython.core.display.Markdown object>"
      ]
     },
     "metadata": {},
     "output_type": "display_data"
    },
    {
     "data": {
      "text/markdown": [
       "- `weights_89` | shape: `(311,)`, dtype: `float64`"
      ],
      "text/plain": [
       "<IPython.core.display.Markdown object>"
      ]
     },
     "metadata": {},
     "output_type": "display_data"
    },
    {
     "data": {
      "text/markdown": [
       "- `weights_9` | shape: `(311,)`, dtype: `float64`"
      ],
      "text/plain": [
       "<IPython.core.display.Markdown object>"
      ]
     },
     "metadata": {},
     "output_type": "display_data"
    },
    {
     "data": {
      "text/markdown": [
       "- `weights_90` | shape: `(311,)`, dtype: `float64`"
      ],
      "text/plain": [
       "<IPython.core.display.Markdown object>"
      ]
     },
     "metadata": {},
     "output_type": "display_data"
    },
    {
     "data": {
      "text/markdown": [
       "- `weights_91` | shape: `(311,)`, dtype: `float64`"
      ],
      "text/plain": [
       "<IPython.core.display.Markdown object>"
      ]
     },
     "metadata": {},
     "output_type": "display_data"
    },
    {
     "data": {
      "text/markdown": [
       "- `weights_92` | shape: `(311,)`, dtype: `float64`"
      ],
      "text/plain": [
       "<IPython.core.display.Markdown object>"
      ]
     },
     "metadata": {},
     "output_type": "display_data"
    },
    {
     "data": {
      "text/markdown": [
       "- `weights_93` | shape: `(311,)`, dtype: `float64`"
      ],
      "text/plain": [
       "<IPython.core.display.Markdown object>"
      ]
     },
     "metadata": {},
     "output_type": "display_data"
    },
    {
     "data": {
      "text/markdown": [
       "- `weights_94` | shape: `(311,)`, dtype: `float64`"
      ],
      "text/plain": [
       "<IPython.core.display.Markdown object>"
      ]
     },
     "metadata": {},
     "output_type": "display_data"
    },
    {
     "data": {
      "text/markdown": [
       "- `weights_95` | shape: `(311,)`, dtype: `float64`"
      ],
      "text/plain": [
       "<IPython.core.display.Markdown object>"
      ]
     },
     "metadata": {},
     "output_type": "display_data"
    },
    {
     "data": {
      "text/markdown": [
       "- `weights_96` | shape: `(311,)`, dtype: `float64`"
      ],
      "text/plain": [
       "<IPython.core.display.Markdown object>"
      ]
     },
     "metadata": {},
     "output_type": "display_data"
    },
    {
     "data": {
      "text/markdown": [
       "- `weights_97` | shape: `(311,)`, dtype: `float64`"
      ],
      "text/plain": [
       "<IPython.core.display.Markdown object>"
      ]
     },
     "metadata": {},
     "output_type": "display_data"
    },
    {
     "data": {
      "text/markdown": [
       "- `weights_98` | shape: `(311,)`, dtype: `float64`"
      ],
      "text/plain": [
       "<IPython.core.display.Markdown object>"
      ]
     },
     "metadata": {},
     "output_type": "display_data"
    },
    {
     "data": {
      "text/markdown": [
       "- `weights_99` | shape: `(311,)`, dtype: `float64`"
      ],
      "text/plain": [
       "<IPython.core.display.Markdown object>"
      ]
     },
     "metadata": {},
     "output_type": "display_data"
    },
    {
     "data": {
      "text/markdown": [
       "- `welfare` | shape: `(311,)`, dtype: `float64`"
      ],
      "text/plain": [
       "<IPython.core.display.Markdown object>"
      ]
     },
     "metadata": {},
     "output_type": "display_data"
    },
    {
     "data": {
      "text/markdown": [
       "- `welfare_loss_abatement` | shape: `(311,)`, dtype: `float64`"
      ],
      "text/plain": [
       "<IPython.core.display.Markdown object>"
      ]
     },
     "metadata": {},
     "output_type": "display_data"
    },
    {
     "data": {
      "text/markdown": [
       "- `welfare_loss_damage` | shape: `(311,)`, dtype: `float64`"
      ],
      "text/plain": [
       "<IPython.core.display.Markdown object>"
      ]
     },
     "metadata": {},
     "output_type": "display_data"
    },
    {
     "data": {
      "text/markdown": [
       "- `years_above_threshold` | shape: `(311,)`, dtype: `float64`"
      ],
      "text/plain": [
       "<IPython.core.display.Markdown object>"
      ]
     },
     "metadata": {},
     "output_type": "display_data"
    }
   ],
   "source": [
    "from IPython.display import display, Markdown\n",
    "\n",
    "with h5py.File(h5_file_path, 'r') as f:\n",
    "    results_group = f[\"results\"]\n",
    "    display(Markdown(\"### Variables in `/results/` group\"))\n",
    "    for name, ds in results_group.items():\n",
    "        display(Markdown(f\"- `{name}` | shape: `{ds.shape}`, dtype: `{ds.dtype}`\"))"
   ]
  }
 ],
 "metadata": {
  "kernelspec": {
   "display_name": "MSc_Thesis",
   "language": "python",
   "name": "python3"
  },
  "language_info": {
   "codemirror_mode": {
    "name": "ipython",
    "version": 3
   },
   "file_extension": ".py",
   "mimetype": "text/x-python",
   "name": "python",
   "nbconvert_exporter": "python",
   "pygments_lexer": "ipython3",
   "version": "3.9.10"
  }
 },
 "nbformat": 4,
 "nbformat_minor": 5
}
