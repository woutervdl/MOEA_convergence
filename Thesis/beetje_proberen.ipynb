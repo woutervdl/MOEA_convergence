{
 "cells": [
  {
   "cell_type": "code",
   "execution_count": 13,
   "metadata": {},
   "outputs": [],
   "source": [
    "import sys\n",
    "import os\n",
    "\n",
    "# Get the current working directory\n",
    "current_dir = os.getcwd()\n",
    "\n",
    "# Go up one level to the parent directory (MOEA_convergence)\n",
    "parent_dir = os.path.dirname(current_dir)\n",
    "\n",
    "# Add the parent directory to Python's sys.path\n",
    "sys.path.append(parent_dir)\n",
    "\n",
    "from JUSTICE_fork.src.util.enumerations import *\n",
    "from JUSTICE_fork.src.util.data_loader import DataLoader\n",
    "from JUSTICE_fork.src.util.model_time import TimeHorizon\n"
   ]
  }
 ],
 "metadata": {
  "kernelspec": {
   "display_name": "MSc_Thesis",
   "language": "python",
   "name": "python3"
  },
  "language_info": {
   "codemirror_mode": {
    "name": "ipython",
    "version": 3
   },
   "file_extension": ".py",
   "mimetype": "text/x-python",
   "name": "python",
   "nbconvert_exporter": "python",
   "pygments_lexer": "ipython3",
   "version": "3.12.2"
  }
 },
 "nbformat": 4,
 "nbformat_minor": 2
}
