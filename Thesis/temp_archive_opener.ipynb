{
 "cells": [
  {
   "cell_type": "code",
   "execution_count": 1,
   "id": "05f5d65e",
   "metadata": {},
   "outputs": [],
   "source": [
    "import tarfile\n",
    "import pandas as pd"
   ]
  },
  {
   "cell_type": "code",
   "execution_count": 6,
   "id": "e3adb5b0",
   "metadata": {},
   "outputs": [],
   "source": [
    "tar_path = \"/Users/wouter/Documents/Studie/Engineering and Policy Analysis/Scriptie/Code/MOEA_convergence/Thesis/archives/JUSTICE/48cores/generational_borg/seed93489/archive.tar.gz\"\n",
    "\n",
    "with tarfile.open(tar_path, \"r:gz\") as tar:\n",
    "    for member in tar.getmembers():\n",
    "        if member.name.endswith(\".csv\"):\n",
    "            tar.extract(member, path=\"/users/wouter/desktop/2extracted.csv\")"
   ]
  },
  {
   "cell_type": "code",
   "execution_count": null,
   "id": "ab7aa62e",
   "metadata": {},
   "outputs": [],
   "source": [
    "tar_path = \"your_file.tar.gz\"\n",
    "target_file = \"path/inside/tar/file.csv\" \n",
    "\n",
    "with tarfile.open(tar_path, \"r:gz\") as tar:\n",
    "    file_obj = tar.extractfile(target_file)\n",
    "    df = pd.read_csv(file_obj)\n",
    "\n",
    "df.to_csv(\"extracted_file.csv\", index=False)"
   ]
  }
 ],
 "metadata": {
  "kernelspec": {
   "display_name": "MSc_Thesis",
   "language": "python",
   "name": "python3"
  },
  "language_info": {
   "codemirror_mode": {
    "name": "ipython",
    "version": 3
   },
   "file_extension": ".py",
   "mimetype": "text/x-python",
   "name": "python",
   "nbconvert_exporter": "python",
   "pygments_lexer": "ipython3",
   "version": "3.9.10"
  }
 },
 "nbformat": 4,
 "nbformat_minor": 5
}
